{
  "cells": [
    {
      "cell_type": "markdown",
      "metadata": {
        "id": "7gUZzqUXf91d"
      },
      "source": [
        "# Analysis\n",
        "\n",
        "Template for Jupyter notebooks running Python."
      ]
    },
    {
      "cell_type": "markdown",
      "metadata": {
        "id": "ynQbJHvcVm55"
      },
      "source": [
        "Version 0.1.0 \\| First Created July 12, 2023 \\| Updated August 01, 2023\n",
        "\n",
        "## Jupyter Notebook\n",
        "\n",
        "This is an Jupyter Notebook document. For more details on using a Jupyter Notebook see <https://docs.jupyter.org/en/latest/>.\n",
        "\n"
      ]
    },
    {
      "cell_type": "markdown",
      "metadata": {},
      "source": [
        "# Reproduction of Hurricane Harvey Flooding GEOG120 Lab Problem\n",
        "\n",
        "### Authors\n",
        "\n",
        "- Colman Bashore\\*, cbashore@middlebury.edu, @colman-bashore, Middlebury College\n",
        "\n",
        "\\* Corresponding author and creator\n",
        "\n"
      ]
    },
    {
      "cell_type": "markdown",
      "metadata": {},
      "source": [
        "### Abstract\n",
        "\n",
        "Write a brief abstract about your research project.\n",
        "\n",
        "If the project is a reproduction or replication study, include a declaration of the study type with a full reference to the original study.\n",
        "For example:\n",
        "\n",
        "This study is a *replication* of:\n",
        "\n",
        "> citation to prior study\n",
        "\n",
        "A graphical abstract of the study could also be included as an image here.\n",
        "\n"
      ]
    },
    {
      "cell_type": "markdown",
      "metadata": {},
      "source": [
        "### Study metadata\n",
        "\n",
        "- `Key words`: Comma-separated list of keywords (tags) for searchability. Geographers often use one or two keywords each for: theory, geographic context, and methods.\n",
        "- `Subject`: select from the [BePress Taxonomy](http://digitalcommons.bepress.com/cgi/viewcontent.cgi?article=1008&context=reference)\n",
        "- `Date created`: date when project was started\n",
        "- `Date modified`: date of most recent revision\n",
        "- `Spatial Coverage`: Specify the geographic extent of your study. This may be a place name and link to a feature in a gazetteer like GeoNames or OpenStreetMap, or a well known text (WKT) representation of a bounding box.\n",
        "- `Spatial Resolution`: Specify the spatial resolution as a scale factor, description of the level of detail of each unit of observation (including administrative level of administrative areas), and/or or distance of a raster GRID size\n",
        "- `Spatial Reference System`: Specify the geographic or projected coordinate system for the study, e.g. EPSG:4326\n",
        "- `Temporal Coverage`: Specify the temporal extent of your study---i.e. the range of time represented by the data observations.\n",
        "- `Temporal Resolution`: Specify the temporal resolution of your study---i.e. the duration of time for which each observation represents or the revisit period for repeated observations\n",
        "- `Funding Name`: name of funding for the project\n",
        "- `Funding Title`: title of project grant\n",
        "- `Award info URI`: web address for award information\n",
        "- `Award number`: award number\n",
        "\n",
        "#### Original study spatio-temporal metadata\n",
        "\n",
        "- `Spatial Coverage`: extent of original study\n",
        "- `Spatial Resolution`: resolution of original study\n",
        "- `Spatial Reference System`: spatial reference system of original study\n",
        "- `Temporal Coverage`: temporal extent of original study\n",
        "- `Temporal Resolution`: temporal resolution of original study\n",
        "\n"
      ]
    },
    {
      "cell_type": "markdown",
      "metadata": {},
      "source": [
        "## Study design\n",
        "\n",
        "Describe how the study relates to prior literature, e.g. is it a **original study**, **meta-analysis study**, **reproduction study**, **reanalysis study**, or **replication study**?\n",
        "\n",
        "Also describe the original study archetype, e.g. is it **observational**, **experimental**, **quasi-experimental**, or **exploratory**?\n",
        "\n",
        "Enumerate specific **hypotheses** to be tested or **research questions** to be investigated here, and specify the type of method, statistical test or model to be used on the hypothesis or question.\n",
        "\n",
        "## Materials and procedure"
      ]
    },
    {
      "cell_type": "markdown",
      "metadata": {
        "id": "lpUbJuwsgQJu"
      },
      "source": [
        "## Computational environment\n",
        "\n",
        "Maintaining a reproducible computational environment requires some conscious choices in package management.\n",
        "\n",
        "Please refer to `00-Python-environment-setup.ipynb` for details.\n",
        "\n"
      ]
    },
    {
      "cell_type": "code",
      "execution_count": 40,
      "metadata": {},
      "outputs": [],
      "source": [
        "# Import modules, define directories\n",
        "\n",
        "from pyhere import here\n",
        "import pandas as pd\n",
        "import geopandas as gpd\n",
        "import folium\n",
        "import matplotlib\n",
        "import numpy as np\n",
        "\n",
        "\n",
        "# You can define your own shortcuts for file paths:\n",
        "path = {\n",
        "    \"dscr\": here(\"data\", \"scratch\"),\n",
        "    \"drpub\": here(\"data\", \"raw\", \"public\"),\n",
        "    \"drpriv\": here(\"data\", \"raw\", \"private\"),\n",
        "    \"ddpub\": here(\"data\", \"derived\", \"public\"),\n",
        "    \"ddpriv\": here(\"data\", \"derived\", \"private\"),\n",
        "    \"rfig\": here(\"results\", \"figures\"),\n",
        "    \"roth\": here(\"results\", \"other\"),\n",
        "    \"rtab\": here(\"results\", \"tables\"),\n",
        "    \"dmet\": here(\"data\", \"metadata\")\n",
        "}"
      ]
    },
    {
      "cell_type": "markdown",
      "metadata": {
        "id": "dEwHjXmlVXZI"
      },
      "source": [
        "### Data and variables\n",
        "\n",
        "Describe the **data sources** and **variables** to be used.\n",
        "Data sources may include plans for observing and recording **primary data** or descriptions of **secondary data**.\n",
        "For secondary data sources with numerous variables, the analysis plan authors may focus on documenting only the variables intended for use in the study.\n",
        "\n",
        "Primary data sources for the study are to include ... .\n",
        "Secondary data sources for the study are to include ... .\n",
        "\n",
        "Each of the next subsections describes one data source.\n",
        "\n"
      ]
    },
    {
      "cell_type": "markdown",
      "metadata": {},
      "source": [
        "#### Primary data source1 name\n",
        "\n",
        "**Standard Metadata**\n",
        "\n",
        "- `Abstract`: Brief description of the data source\n",
        "- `Spatial Coverage`: Specify the geographic extent of your study. This may be a place name and link to a feature in a gazetteer like GeoNames or OpenStreetMap, or a well known text (WKT) representation of a bounding box.\n",
        "- `Spatial Resolution`: Specify the spatial resolution as a scale factor, description of the level of detail of each unit of observation (including administrative level of administrative areas), and/or or distance of a raster GRID size\n",
        "- `Spatial Reference System`: Specify the geographic or projected coordinate system for the study\n",
        "- `Temporal Coverage`: Specify the temporal extent of your study---i.e. the range of time represented by the data observations.\n",
        "- `Temporal Resolution`: Specify the temporal resolution of your study---i.e. the duration of time for which each observation represents or the revisit period for repeated observations\n",
        "- `Lineage`: Describe and/or cite data sources and/or methodological steps planned to create this data source.\n",
        "  - sampling scheme, including spatial sampling\n",
        "  - target sample size and method for determining sample size\n",
        "  - stopping criteria for data collection and sampling (e.g. sample size, time elapsed)\n",
        "  - de-identification / anonymization\n",
        "  - experimental manipulation\n",
        "- `Distribution`: Describe who will make the data available and how?\n",
        "- `Constraints`: Legal constraints for *access* or *use* to protect *privacy* or *intellectual property rights*\n",
        "- `Data Quality`: State any planned quality assessment\n",
        "- `Variables`: For each variable, enter the following information. If you have two or more variables per data source, you may want to present this information in table form (shown below)\n",
        "  - `Label`: variable name as used in the data or code\n",
        "  - `Alias`: intuitive natural language name\n",
        "  - `Definition`: Short description or definition of the variable. Include measurement units in description.\n",
        "  - `Type`: data type, e.g. character string, integer, real\n",
        "  - `Accuracy`: e.g. uncertainty of measurements\n",
        "  - `Domain`: Expected range of Maximum and Minimum of numerical data, or codes or categories of nominal data, or reference to a standard codebook\n",
        "  - `Missing Data Value(s)`: Values used to represent missing data and frequency of missing data observations\n",
        "  - `Missing Data Frequency`: Frequency of missing data observations: not yet known for data to be collected\n",
        "\n",
        "| Label | Alias | Definition | Type | Accuracy | Domain | Missing Data Value(s) | Missing Data Frequency |\n",
        "| :--: | :--: | :--: | :--: | :--: | :--: | :--: | :--: |\n",
        "| variable1 | ... | ... | ... | ... | ... | ... | ... |\n",
        "| variable2 | ... | ... | ... | ... | ... | ... | ... |\n",
        "\n"
      ]
    },
    {
      "cell_type": "markdown",
      "metadata": {},
      "source": [
        "#### Primary data source2 name\n",
        "\n",
        "... same form as above...\n",
        "\n"
      ]
    },
    {
      "cell_type": "markdown",
      "metadata": {},
      "source": [
        "#### Secondary data source1 name\n",
        "\n",
        "**Standard Metadata**\n",
        "\n",
        "- `Abstract`: Brief description of the data source\n",
        "- `Spatial Coverage`: Specify the geographic extent of your study. This may be a place name and link to a feature in a gazetteer like GeoNames or OpenStreetMap, or a well known text (WKT) representation of a bounding box.\n",
        "- `Spatial Resolution`: Specify the spatial resolution as a scale factor, description of the level of detail of each unit of observation (including administrative level of administrative areas), and/or or distance of a raster GRID size\n",
        "- `Spatial Reference System`: Specify the geographic or projected coordinate system for the study\n",
        "- `Temporal Coverage`: Specify the temporal extent of your study---i.e. the range of time represented by the data observations.\n",
        "- `Temporal Resolution`: Specify the temporal resolution of your study---i.e. the duration of time for which each observation represents or the revisit period for repeated observations\n",
        "- `Lineage`: Describe and/or cite data sources and/or methodological steps used to create this data source\n",
        "- `Distribution`: Describe how the data is distributed, including any persistent identifier (e.g. DOI) or URL for data access\n",
        "- `Constraints`: Legal constraints for *access* or *use* to protect *privacy* or *intellectual property rights*\n",
        "- `Data Quality`: State result of quality assessment or state \"Quality unknown\"\n",
        "- `Variables`: For each variable, enter the following information. If you have two or more variables per data source, you may want to present this information in table form (shown below)\n",
        "  - `Label`: variable name as used in the data or code\n",
        "  - `Alias`: intuitive natural language name\n",
        "  - `Definition`: Short description or definition of the variable. Include measurement units in description.\n",
        "  - `Type`: data type, e.g. character string, integer, real\n",
        "  - `Accuracy`: e.g. uncertainty of measurements\n",
        "  - `Domain`: Range (Maximum and Minimum) of numerical data, or codes or categories of nominal data, or reference to a standard codebook\n",
        "  - `Missing Data Value(s)`: Values used to represent missing data and frequency of missing data observations\n",
        "  - `Missing Data Frequency`: Frequency of missing data observations\n",
        "\n",
        "| Label | Alias | Definition | Type | Accuracy | Domain | Missing Data Value(s) | Missing Data Frequency |\n",
        "| :--: | :--: | :--: | :--: | :--: | :--: | :--: | :--: |\n",
        "| variable1 | ... | ... | ... | ... | ... | ... | ... |\n",
        "| variable2 | ... | ... | ... | ... | ... | ... | ... |\n",
        "\n"
      ]
    },
    {
      "cell_type": "markdown",
      "metadata": {},
      "source": [
        "#### Secondary data source2 name\n",
        "\n",
        "... same form as above...\n",
        "\n"
      ]
    },
    {
      "cell_type": "markdown",
      "metadata": {},
      "source": [
        "### Prior observations  \n",
        "\n",
        "Prior experience with the study area, prior data collection, or prior observation of the data can compromise the validity of a study, e.g. through p-hacking.\n",
        "Therefore, disclose any prior experience or observations at the time of study pre-registration here, with example text below:\n",
        "\n",
        "At the time of this study pre-registration, the authors had _____ prior knowledge of the geography of the study region with regards to the ____ phenomena to be studied.\n",
        "This study is related to ____ prior studies by the authors\n",
        "\n",
        "For each primary data source, declare the extent to which authors had already engaged with the data:\n",
        "\n",
        "- [ ] no data collection has started\n",
        "- [ ] pilot test data has been collected\n",
        "- [ ] data collection is in progress and data has not been observed\n",
        "- [ ] data collection is in progress and __% of data has been observed\n",
        "- [ ] data collection is complete and data has been observed. Explain how authors have already manipulated / explored the data.\n",
        "\n",
        "For each secondary source, declare the extent to which authors had already engaged with the data:\n",
        "\n",
        "- [ ] data is not available yet\n",
        "- [ ] data is available, but only metadata has been observed\n",
        "- [ ] metadata and descriptive statistics have been observed\n",
        "- [ ] metadata and a pilot test subset or sample of the full dataset have been observed\n",
        "- [ ] the full dataset has been observed. Explain how authors have already manipulated / explored the data.\n",
        "\n",
        "If pilot test data has been collected or acquired, describe how the researchers observed and analyzed the pilot test, and the extent to which the pilot test influenced the research design.\n",
        "\n"
      ]
    },
    {
      "cell_type": "markdown",
      "metadata": {},
      "source": [
        "### Import Data\n",
        "\n",
        "#### blockgroups.shp\n",
        "◦ Block Groups of Harris County, Texas\n",
        "◦ One block group contains only 9 people, but you may include all block groups in your analysis.\n",
        "◦ Source: United States Census API https://www.census.gov/developers/ via R tidycensus\n",
        "https://walkerke.github.io/tidycensus"
      ]
    },
    {
      "cell_type": "code",
      "execution_count": 61,
      "metadata": {},
      "outputs": [
        {
          "data": {
            "text/html": [
              "<div>\n",
              "<style scoped>\n",
              "    .dataframe tbody tr th:only-of-type {\n",
              "        vertical-align: middle;\n",
              "    }\n",
              "\n",
              "    .dataframe tbody tr th {\n",
              "        vertical-align: top;\n",
              "    }\n",
              "\n",
              "    .dataframe thead th {\n",
              "        text-align: right;\n",
              "    }\n",
              "</style>\n",
              "<table border=\"1\" class=\"dataframe\">\n",
              "  <thead>\n",
              "    <tr style=\"text-align: right;\">\n",
              "      <th></th>\n",
              "      <th>STATEFP</th>\n",
              "      <th>COUNTYFP</th>\n",
              "      <th>TRACTCE</th>\n",
              "      <th>BLKGRPCE</th>\n",
              "      <th>AFFGEOID</th>\n",
              "      <th>GEOID</th>\n",
              "      <th>LSAD</th>\n",
              "      <th>ALAND</th>\n",
              "      <th>AWATER</th>\n",
              "      <th>GEONAME</th>\n",
              "      <th>geometry</th>\n",
              "    </tr>\n",
              "  </thead>\n",
              "  <tbody>\n",
              "    <tr>\n",
              "      <th>0</th>\n",
              "      <td>48</td>\n",
              "      <td>201</td>\n",
              "      <td>311000</td>\n",
              "      <td>1</td>\n",
              "      <td>1500000US482013110001</td>\n",
              "      <td>482013110001</td>\n",
              "      <td>BG</td>\n",
              "      <td>616969.0</td>\n",
              "      <td>47009.0</td>\n",
              "      <td>Block Group 1, Census Tract 3110, Harris Count...</td>\n",
              "      <td>POLYGON ((958404.137 4217699.295, 958413.144 4...</td>\n",
              "    </tr>\n",
              "    <tr>\n",
              "      <th>1</th>\n",
              "      <td>48</td>\n",
              "      <td>201</td>\n",
              "      <td>311000</td>\n",
              "      <td>4</td>\n",
              "      <td>1500000US482013110004</td>\n",
              "      <td>482013110004</td>\n",
              "      <td>BG</td>\n",
              "      <td>408595.0</td>\n",
              "      <td>25333.0</td>\n",
              "      <td>Block Group 4, Census Tract 3110, Harris Count...</td>\n",
              "      <td>POLYGON ((957048.814 4217692.784, 957496.427 4...</td>\n",
              "    </tr>\n",
              "    <tr>\n",
              "      <th>2</th>\n",
              "      <td>48</td>\n",
              "      <td>201</td>\n",
              "      <td>311100</td>\n",
              "      <td>1</td>\n",
              "      <td>1500000US482013111001</td>\n",
              "      <td>482013111001</td>\n",
              "      <td>BG</td>\n",
              "      <td>1018525.0</td>\n",
              "      <td>213804.0</td>\n",
              "      <td>Block Group 1, Census Tract 3111, Harris Count...</td>\n",
              "      <td>POLYGON ((958975.179 4217311.881, 958892.738 4...</td>\n",
              "    </tr>\n",
              "    <tr>\n",
              "      <th>3</th>\n",
              "      <td>48</td>\n",
              "      <td>201</td>\n",
              "      <td>311100</td>\n",
              "      <td>3</td>\n",
              "      <td>1500000US482013111003</td>\n",
              "      <td>482013111003</td>\n",
              "      <td>BG</td>\n",
              "      <td>484061.0</td>\n",
              "      <td>36045.0</td>\n",
              "      <td>Block Group 3, Census Tract 3111, Harris Count...</td>\n",
              "      <td>POLYGON ((958773.280 4216120.376, 959779.865 4...</td>\n",
              "    </tr>\n",
              "    <tr>\n",
              "      <th>4</th>\n",
              "      <td>48</td>\n",
              "      <td>201</td>\n",
              "      <td>311100</td>\n",
              "      <td>4</td>\n",
              "      <td>1500000US482013111004</td>\n",
              "      <td>482013111004</td>\n",
              "      <td>BG</td>\n",
              "      <td>547376.0</td>\n",
              "      <td>0.0</td>\n",
              "      <td>Block Group 4, Census Tract 3111, Harris Count...</td>\n",
              "      <td>POLYGON ((958756.220 4216618.402, 959659.603 4...</td>\n",
              "    </tr>\n",
              "  </tbody>\n",
              "</table>\n",
              "</div>"
            ],
            "text/plain": [
              "  STATEFP COUNTYFP TRACTCE BLKGRPCE               AFFGEOID         GEOID LSAD  \\\n",
              "0      48      201  311000        1  1500000US482013110001  482013110001   BG   \n",
              "1      48      201  311000        4  1500000US482013110004  482013110004   BG   \n",
              "2      48      201  311100        1  1500000US482013111001  482013111001   BG   \n",
              "3      48      201  311100        3  1500000US482013111003  482013111003   BG   \n",
              "4      48      201  311100        4  1500000US482013111004  482013111004   BG   \n",
              "\n",
              "       ALAND    AWATER                                            GEONAME  \\\n",
              "0   616969.0   47009.0  Block Group 1, Census Tract 3110, Harris Count...   \n",
              "1   408595.0   25333.0  Block Group 4, Census Tract 3110, Harris Count...   \n",
              "2  1018525.0  213804.0  Block Group 1, Census Tract 3111, Harris Count...   \n",
              "3   484061.0   36045.0  Block Group 3, Census Tract 3111, Harris Count...   \n",
              "4   547376.0       0.0  Block Group 4, Census Tract 3111, Harris Count...   \n",
              "\n",
              "                                            geometry  \n",
              "0  POLYGON ((958404.137 4217699.295, 958413.144 4...  \n",
              "1  POLYGON ((957048.814 4217692.784, 957496.427 4...  \n",
              "2  POLYGON ((958975.179 4217311.881, 958892.738 4...  \n",
              "3  POLYGON ((958773.280 4216120.376, 959779.865 4...  \n",
              "4  POLYGON ((958756.220 4216618.402, 959659.603 4...  "
            ]
          },
          "execution_count": 61,
          "metadata": {},
          "output_type": "execute_result"
        }
      ],
      "source": [
        "blockgroups = gpd.read_file(here(path[\"drpub\"], \"blockgroups.shp\"))\n",
        "\n",
        "blockgroups = gpd.GeoDataFrame(blockgroups)\n",
        "\n",
        "blockgroups.head()\n",
        "\n"
      ]
    },
    {
      "cell_type": "markdown",
      "metadata": {},
      "source": [
        "#### blockgroup_demographic_data.csv\n",
        "◦ Data table of block group demographics.\n",
        "◦ Explanation of attribute variable codes from this 5-year American Community Survey 2012-2017 data are found in\n",
        "block group metadata.xls\n",
        "◦ Source: United States Census API https://www.census.gov/developers/ via Rtidycensus\n",
        "https://walkerke.github.io/tidycensus"
      ]
    },
    {
      "cell_type": "code",
      "execution_count": 80,
      "metadata": {},
      "outputs": [
        {
          "data": {
            "text/html": [
              "<div>\n",
              "<style scoped>\n",
              "    .dataframe tbody tr th:only-of-type {\n",
              "        vertical-align: middle;\n",
              "    }\n",
              "\n",
              "    .dataframe tbody tr th {\n",
              "        vertical-align: top;\n",
              "    }\n",
              "\n",
              "    .dataframe thead th {\n",
              "        text-align: right;\n",
              "    }\n",
              "</style>\n",
              "<table border=\"1\" class=\"dataframe\">\n",
              "  <thead>\n",
              "    <tr style=\"text-align: right;\">\n",
              "      <th></th>\n",
              "      <th>GEOID</th>\n",
              "      <th>B03002_001</th>\n",
              "      <th>B03002_002</th>\n",
              "      <th>B03002_003</th>\n",
              "      <th>B03002_004</th>\n",
              "      <th>B03002_005</th>\n",
              "      <th>B03002_006</th>\n",
              "      <th>B03002_007</th>\n",
              "      <th>B03002_008</th>\n",
              "      <th>B03002_009</th>\n",
              "      <th>...</th>\n",
              "      <th>B03002_012</th>\n",
              "      <th>B03002_013</th>\n",
              "      <th>B03002_014</th>\n",
              "      <th>B03002_015</th>\n",
              "      <th>B03002_016</th>\n",
              "      <th>B03002_017</th>\n",
              "      <th>B03002_018</th>\n",
              "      <th>B03002_019</th>\n",
              "      <th>B03002_020</th>\n",
              "      <th>B03002_021</th>\n",
              "    </tr>\n",
              "  </thead>\n",
              "  <tbody>\n",
              "    <tr>\n",
              "      <th>0</th>\n",
              "      <td>482013110001</td>\n",
              "      <td>583</td>\n",
              "      <td>0</td>\n",
              "      <td>0</td>\n",
              "      <td>0</td>\n",
              "      <td>0</td>\n",
              "      <td>0</td>\n",
              "      <td>0</td>\n",
              "      <td>0</td>\n",
              "      <td>0</td>\n",
              "      <td>...</td>\n",
              "      <td>583</td>\n",
              "      <td>573</td>\n",
              "      <td>0</td>\n",
              "      <td>0</td>\n",
              "      <td>0</td>\n",
              "      <td>0</td>\n",
              "      <td>10</td>\n",
              "      <td>0</td>\n",
              "      <td>0</td>\n",
              "      <td>0</td>\n",
              "    </tr>\n",
              "    <tr>\n",
              "      <th>1</th>\n",
              "      <td>482013110004</td>\n",
              "      <td>1869</td>\n",
              "      <td>22</td>\n",
              "      <td>22</td>\n",
              "      <td>0</td>\n",
              "      <td>0</td>\n",
              "      <td>0</td>\n",
              "      <td>0</td>\n",
              "      <td>0</td>\n",
              "      <td>0</td>\n",
              "      <td>...</td>\n",
              "      <td>1847</td>\n",
              "      <td>1818</td>\n",
              "      <td>0</td>\n",
              "      <td>0</td>\n",
              "      <td>0</td>\n",
              "      <td>0</td>\n",
              "      <td>29</td>\n",
              "      <td>0</td>\n",
              "      <td>0</td>\n",
              "      <td>0</td>\n",
              "    </tr>\n",
              "    <tr>\n",
              "      <th>2</th>\n",
              "      <td>482013111001</td>\n",
              "      <td>1046</td>\n",
              "      <td>11</td>\n",
              "      <td>11</td>\n",
              "      <td>0</td>\n",
              "      <td>0</td>\n",
              "      <td>0</td>\n",
              "      <td>0</td>\n",
              "      <td>0</td>\n",
              "      <td>0</td>\n",
              "      <td>...</td>\n",
              "      <td>1035</td>\n",
              "      <td>895</td>\n",
              "      <td>4</td>\n",
              "      <td>0</td>\n",
              "      <td>0</td>\n",
              "      <td>0</td>\n",
              "      <td>136</td>\n",
              "      <td>0</td>\n",
              "      <td>0</td>\n",
              "      <td>0</td>\n",
              "    </tr>\n",
              "    <tr>\n",
              "      <th>3</th>\n",
              "      <td>482013111003</td>\n",
              "      <td>1639</td>\n",
              "      <td>112</td>\n",
              "      <td>112</td>\n",
              "      <td>0</td>\n",
              "      <td>0</td>\n",
              "      <td>0</td>\n",
              "      <td>0</td>\n",
              "      <td>0</td>\n",
              "      <td>0</td>\n",
              "      <td>...</td>\n",
              "      <td>1527</td>\n",
              "      <td>1192</td>\n",
              "      <td>0</td>\n",
              "      <td>0</td>\n",
              "      <td>0</td>\n",
              "      <td>0</td>\n",
              "      <td>315</td>\n",
              "      <td>20</td>\n",
              "      <td>0</td>\n",
              "      <td>20</td>\n",
              "    </tr>\n",
              "    <tr>\n",
              "      <th>4</th>\n",
              "      <td>482013111004</td>\n",
              "      <td>1759</td>\n",
              "      <td>48</td>\n",
              "      <td>0</td>\n",
              "      <td>16</td>\n",
              "      <td>0</td>\n",
              "      <td>32</td>\n",
              "      <td>0</td>\n",
              "      <td>0</td>\n",
              "      <td>0</td>\n",
              "      <td>...</td>\n",
              "      <td>1711</td>\n",
              "      <td>1476</td>\n",
              "      <td>11</td>\n",
              "      <td>7</td>\n",
              "      <td>0</td>\n",
              "      <td>0</td>\n",
              "      <td>173</td>\n",
              "      <td>44</td>\n",
              "      <td>44</td>\n",
              "      <td>0</td>\n",
              "    </tr>\n",
              "  </tbody>\n",
              "</table>\n",
              "<p>5 rows × 22 columns</p>\n",
              "</div>"
            ],
            "text/plain": [
              "          GEOID B03002_001 B03002_002 B03002_003 B03002_004 B03002_005  \\\n",
              "0  482013110001        583          0          0          0          0   \n",
              "1  482013110004       1869         22         22          0          0   \n",
              "2  482013111001       1046         11         11          0          0   \n",
              "3  482013111003       1639        112        112          0          0   \n",
              "4  482013111004       1759         48          0         16          0   \n",
              "\n",
              "  B03002_006 B03002_007 B03002_008 B03002_009  ... B03002_012 B03002_013  \\\n",
              "0          0          0          0          0  ...        583        573   \n",
              "1          0          0          0          0  ...       1847       1818   \n",
              "2          0          0          0          0  ...       1035        895   \n",
              "3          0          0          0          0  ...       1527       1192   \n",
              "4         32          0          0          0  ...       1711       1476   \n",
              "\n",
              "  B03002_014 B03002_015 B03002_016 B03002_017 B03002_018 B03002_019  \\\n",
              "0          0          0          0          0         10          0   \n",
              "1          0          0          0          0         29          0   \n",
              "2          4          0          0          0        136          0   \n",
              "3          0          0          0          0        315         20   \n",
              "4         11          7          0          0        173         44   \n",
              "\n",
              "  B03002_020 B03002_021  \n",
              "0          0          0  \n",
              "1          0          0  \n",
              "2          0          0  \n",
              "3          0         20  \n",
              "4         44          0  \n",
              "\n",
              "[5 rows x 22 columns]"
            ]
          },
          "execution_count": 80,
          "metadata": {},
          "output_type": "execute_result"
        }
      ],
      "source": [
        "blockgroup_demographic_data = pd.read_csv(here(path[\"drpub\"],'blockgroup_demographic_data.csv'), dtype=str,encoding='latin-1')\n",
        "\n",
        "\n",
        "blockgroup_demographic_data.head()"
      ]
    },
    {
      "cell_type": "markdown",
      "metadata": {},
      "source": [
        "#### predicted_flood.shp\n",
        "◦ This vector layer contains FEMA’s 100-yr flood zones for Harris County. A 100-year flood zone indicates a 1%\n",
        "chance of flooding every year.\n",
        "◦ Source: FEMA’s National Flood Hazard Layer (NFHL) Viewer https://hazards-\n",
        "fema.maps.arcgis.com/apps/webappviewer/index.html?id=8b0adb51996444d4879338b5529aa9cd"
      ]
    },
    {
      "cell_type": "code",
      "execution_count": 5,
      "metadata": {},
      "outputs": [
        {
          "data": {
            "text/html": [
              "<div>\n",
              "<style scoped>\n",
              "    .dataframe tbody tr th:only-of-type {\n",
              "        vertical-align: middle;\n",
              "    }\n",
              "\n",
              "    .dataframe tbody tr th {\n",
              "        vertical-align: top;\n",
              "    }\n",
              "\n",
              "    .dataframe thead th {\n",
              "        text-align: right;\n",
              "    }\n",
              "</style>\n",
              "<table border=\"1\" class=\"dataframe\">\n",
              "  <thead>\n",
              "    <tr style=\"text-align: right;\">\n",
              "      <th></th>\n",
              "      <th>featCount</th>\n",
              "      <th>DFIRM_ID</th>\n",
              "      <th>geometry</th>\n",
              "    </tr>\n",
              "  </thead>\n",
              "  <tbody>\n",
              "    <tr>\n",
              "      <th>0</th>\n",
              "      <td>4273.0</td>\n",
              "      <td>48201C</td>\n",
              "      <td>MULTIPOLYGON (((909695.289 4219147.673, 909688...</td>\n",
              "    </tr>\n",
              "  </tbody>\n",
              "</table>\n",
              "</div>"
            ],
            "text/plain": [
              "   featCount DFIRM_ID                                           geometry\n",
              "0     4273.0   48201C  MULTIPOLYGON (((909695.289 4219147.673, 909688..."
            ]
          },
          "execution_count": 5,
          "metadata": {},
          "output_type": "execute_result"
        }
      ],
      "source": [
        "predicted_flood = gpd.read_file(here(path[\"drpub\"],'predicted_flood_FEMA.shp'))\n",
        "\n",
        "predicted_flood.head()"
      ]
    },
    {
      "cell_type": "markdown",
      "metadata": {},
      "source": [
        "#### actual_flood.shp\n",
        "◦ This vector layer contains FEMA’s 100-yr flood zones for Harris County. A 100-year flood zone indicates a 1%\n",
        "chance of flooding every year.\n",
        "◦ Source: FEMA’s National Flood Hazard Layer (NFHL) Viewer https://hazards-\n",
        "fema.maps.arcgis.com/apps/webappviewer/index.html?id=8b0adb51996444d4879338b5529aa9cd"
      ]
    },
    {
      "cell_type": "code",
      "execution_count": 6,
      "metadata": {},
      "outputs": [
        {
          "data": {
            "text/html": [
              "<div>\n",
              "<style scoped>\n",
              "    .dataframe tbody tr th:only-of-type {\n",
              "        vertical-align: middle;\n",
              "    }\n",
              "\n",
              "    .dataframe tbody tr th {\n",
              "        vertical-align: top;\n",
              "    }\n",
              "\n",
              "    .dataframe thead th {\n",
              "        text-align: right;\n",
              "    }\n",
              "</style>\n",
              "<table border=\"1\" class=\"dataframe\">\n",
              "  <thead>\n",
              "    <tr style=\"text-align: right;\">\n",
              "      <th></th>\n",
              "      <th>featCount</th>\n",
              "      <th>VALUE</th>\n",
              "      <th>geometry</th>\n",
              "    </tr>\n",
              "  </thead>\n",
              "  <tbody>\n",
              "    <tr>\n",
              "      <th>0</th>\n",
              "      <td>50363.0</td>\n",
              "      <td>1.0</td>\n",
              "      <td>MULTIPOLYGON (((901523.471 4235737.879, 901523...</td>\n",
              "    </tr>\n",
              "  </tbody>\n",
              "</table>\n",
              "</div>"
            ],
            "text/plain": [
              "   featCount  VALUE                                           geometry\n",
              "0    50363.0    1.0  MULTIPOLYGON (((901523.471 4235737.879, 901523..."
            ]
          },
          "execution_count": 6,
          "metadata": {},
          "output_type": "execute_result"
        }
      ],
      "source": [
        "actual_flood = gpd.read_file(here(path[\"drpub\"],'actual_flood.shp'))\n",
        "\n",
        "actual_flood.head()"
      ]
    },
    {
      "cell_type": "markdown",
      "metadata": {},
      "source": [
        "### Bias and threats to validity\n",
        "\n",
        "Given the research design and primary data to be collected and/or secondary data to be used, discuss common threats to validity and the approach to mitigating those threats, with an emphasis on geographic threats to validity.\n",
        "\n",
        "These include:\n",
        "  - uneven primary data collection due to geographic inaccessibility or other constraints\n",
        "  - multiple hypothesis testing\n",
        "  - edge or boundary effects\n",
        "  - the modifiable areal unit problem\n",
        "  - nonstationarity\n",
        "  - spatial dependence or autocorrelation\n",
        "  - temporal dependence or autocorrelation\n",
        "  - spatial scale dependency\n",
        "  - spatial anisotropies\n",
        "  - confusion of spatial and a-spatial causation\n",
        "  - ecological fallacy\n",
        "  - uncertainty e.g. from spatial disaggregation, anonymization, differential privacy\n",
        "\n"
      ]
    },
    {
      "cell_type": "markdown",
      "metadata": {},
      "source": [
        "### Data transformations\n",
        "\n",
        "Describe all data transformations planned to prepare data sources for analysis.\n",
        "This section should explain with the fullest detail possible how to transform data from the **raw** state at the time of acquisition or observation, to the pre-processed **derived** state ready for the main analysis.\n",
        "Including steps to check and mitigate sources of **bias** and **threats to validity**.\n",
        "The method may anticipate **contingencies**, e.g. tests for normality and alternative decisions to make based on the results of the test.\n",
        "More specifically, all the **geographic** and **variable** transformations required to prepare input data as described in the data and variables section above to match the study's spatio-temporal characteristics as described in the study metadata and study design sections.\n",
        "Visual workflow diagrams may help communicate the methodology in this section.\n",
        "\n",
        "Examples of **geographic** transformations include coordinate system transformations, aggregation, disaggregation, spatial interpolation, distance calculations, zonal statistics, etc.\n",
        "\n",
        "Examples of **variable** transformations include standardization, normalization, constructed variables, imputation, classification, etc.\n",
        "\n",
        "Be sure to include any steps planned to **exclude** observations with *missing* or *outlier* data, to **group** observations by *attribute* or *geographic* criteria, or to **impute** missing data or apply spatial or temporal **interpolation**.\n",
        "\n"
      ]
    },
    {
      "cell_type": "markdown",
      "metadata": {},
      "source": [
        "#### Goal 1: Load census data into block groups \n"
      ]
    },
    {
      "cell_type": "code",
      "execution_count": 110,
      "metadata": {},
      "outputs": [
        {
          "name": "stdout",
          "output_type": "stream",
          "text": [
            "GEOID         object\n",
            "geometry    geometry\n",
            "Total          int64\n",
            "White          int64\n",
            "Black          int64\n",
            "Asian          int64\n",
            "Latinx         int64\n",
            "dtype: object\n"
          ]
        }
      ],
      "source": [
        "\n",
        "\n",
        "\n",
        "bg_merged = blockgroups.merge(blockgroup_demographic_data, on = \"GEOID\", how = \"left\")\n",
        "\n",
        "bgData = gpd.GeoDataFrame(bg_merged)\n",
        "\n",
        "bgData.rename(\n",
        "  columns={\n",
        "    'B03002_001': 'Total',\n",
        "    'B03002_003' : 'White',\n",
        "    'B03002_004' : 'Black',\n",
        "    'B03002_006' : 'Asian',\n",
        "    'B03002_012' : 'Latinx',\n",
        "  },\n",
        "  inplace=True\n",
        ")\n",
        "\n",
        "bgData  = bgData.drop(columns=['STATEFP', 'COUNTYFP', 'TRACTCE', 'BLKGRPCE', 'AFFGEOID','LSAD', 'ALAND', 'AWATER', 'GEONAME','B03002_002','B03002_005','B03002_007', 'B03002_008','B03002_009', 'B03002_010', 'B03002_011','B03002_013','B03002_014', 'B03002_015', 'B03002_016', 'B03002_017', 'B03002_018','B03002_019', 'B03002_020', 'B03002_021'])\n",
        "\n",
        "# bgData = bgData.astype(\n",
        "#      {'GEOID': 'int','Total': 'float', 'White': 'float', 'Black': 'float', 'Asian': 'float','Latinx': 'float'}).dtypes\n",
        "\n",
        "bgData[['Total', 'White', 'Black', 'Asian','Latinx']] = bgData[['Total', 'White', 'Black', 'Asian','Latinx']].apply(pd.to_numeric)\n",
        "print(bgData.dtypes)\n",
        "#bgData.columns\n",
        "#bgData.plot()\n",
        "#print(bgData)\n",
        "\n",
        "\n"
      ]
    },
    {
      "cell_type": "code",
      "execution_count": 10,
      "metadata": {},
      "outputs": [],
      "source": [
        "# Visualize join\n",
        "\n",
        "# map = folium.Map(location=[29.85, -95.4], tiles=\"CartoDB Positron\", zoom_start=10)\n",
        "\n",
        "# folium.Choropleth(\n",
        "#     geo_data=blockgroups,\n",
        "#     data=bgData,\n",
        "#     columns=[\"GEOID\",\"White\"],\n",
        "#     fill_color=\"YlGn\",\n",
        "#     key_on=\"feature.GEOID\",\n",
        "#     fill_opacity=0.7,\n",
        "#     line_opacity=0.2,\n",
        "# ).add_to(map)\n",
        "# map\n",
        "\n"
      ]
    },
    {
      "cell_type": "markdown",
      "metadata": {},
      "source": [
        "#### Goal 2: Create regions by majority groups"
      ]
    },
    {
      "cell_type": "code",
      "execution_count": 111,
      "metadata": {},
      "outputs": [
        {
          "name": "stderr",
          "output_type": "stream",
          "text": [
            "/Users/colmanbashore/anaconda3/envs/harvey/lib/python3.10/site-packages/geopandas/plotting.py:715: FutureWarning: is_categorical_dtype is deprecated and will be removed in a future version. Use isinstance(dtype, CategoricalDtype) instead\n",
            "  if pd.api.types.is_categorical_dtype(values.dtype):\n",
            "/Users/colmanbashore/anaconda3/envs/harvey/lib/python3.10/site-packages/geopandas/plotting.py:48: ShapelyDeprecationWarning: The 'type' attribute is deprecated, and will be removed in the future. You can use the 'geom_type' attribute instead.\n",
            "  if geom is not None and geom.type.startswith(prefix) and not geom.is_empty:\n"
          ]
        },
        {
          "data": {
            "text/plain": [
              "<Axes: >"
            ]
          },
          "execution_count": 111,
          "metadata": {},
          "output_type": "execute_result"
        },
        {
          "data": {
            "image/png": "[encoded data removed]",
            "text/plain": [
              "<Figure size 640x480 with 2 Axes>"
            ]
          },
          "metadata": {},
          "output_type": "display_data"
        }
      ],
      "source": [
        "## Calculate percentages of each majority group\n",
        "\n",
        "\n",
        "bgData[\"pctAsian\"] = bgData.Asian / bgData.Total * 100\n",
        "bgData[\"pctBlack\"] = bgData.Black / bgData.Total * 100\n",
        "bgData[\"pctLatinx\"] = bgData.Latinx / bgData.Total * 100\n",
        "bgData[\"pctWhite\"] = bgData.White / bgData.Total * 100\n",
        "\n",
        "bgData.plot(column='pctLatinx', legend=True)\n"
      ]
    },
    {
      "cell_type": "code",
      "execution_count": 113,
      "metadata": {},
      "outputs": [
        {
          "ename": "AttributeError",
          "evalue": "'GeoDataFrame' object has no attribute 'majorGrp'",
          "output_type": "error",
          "traceback": [
            "\u001b[0;31m---------------------------------------------------------------------------\u001b[0m",
            "\u001b[0;31mAttributeError\u001b[0m                            Traceback (most recent call last)",
            "\u001b[0;32m/var/folders/m1/f_2pq5y53857t4k66mjmp0fm0000gn/T/ipykernel_91093/3267217999.py\u001b[0m in \u001b[0;36m?\u001b[0;34m()\u001b[0m\n\u001b[1;32m      2\u001b[0m \u001b[0;34m\u001b[0m\u001b[0m\n\u001b[1;32m      3\u001b[0m \u001b[0;34m\u001b[0m\u001b[0m\n\u001b[1;32m      4\u001b[0m \u001b[0;32mfor\u001b[0m \u001b[0mindex\u001b[0m\u001b[0;34m,\u001b[0m\u001b[0mvalue\u001b[0m \u001b[0;32min\u001b[0m \u001b[0mbgData\u001b[0m\u001b[0;34m.\u001b[0m\u001b[0mpctAsian\u001b[0m\u001b[0;34m.\u001b[0m\u001b[0mitems\u001b[0m\u001b[0;34m(\u001b[0m\u001b[0;34m)\u001b[0m\u001b[0;34m:\u001b[0m\u001b[0;34m\u001b[0m\u001b[0;34m\u001b[0m\u001b[0m\n\u001b[1;32m      5\u001b[0m     \u001b[0;32mif\u001b[0m \u001b[0mvalue\u001b[0m \u001b[0;34m>=\u001b[0m \u001b[0;36m60\u001b[0m\u001b[0;34m:\u001b[0m\u001b[0;34m\u001b[0m\u001b[0;34m\u001b[0m\u001b[0m\n\u001b[0;32m----> 6\u001b[0;31m         \u001b[0mbgData\u001b[0m\u001b[0;34m.\u001b[0m\u001b[0mmajorGrp\u001b[0m\u001b[0;34m.\u001b[0m\u001b[0mvalue\u001b[0m \u001b[0;34m=\u001b[0m \u001b[0;34m'Asian'\u001b[0m\u001b[0;34m\u001b[0m\u001b[0;34m\u001b[0m\u001b[0m\n\u001b[0m\u001b[1;32m      7\u001b[0m \u001b[0;32mfor\u001b[0m \u001b[0mindex\u001b[0m\u001b[0;34m,\u001b[0m\u001b[0mvalue\u001b[0m \u001b[0;32min\u001b[0m \u001b[0mbgData\u001b[0m\u001b[0;34m.\u001b[0m\u001b[0mpctBlack\u001b[0m\u001b[0;34m.\u001b[0m\u001b[0mitems\u001b[0m\u001b[0;34m(\u001b[0m\u001b[0;34m)\u001b[0m\u001b[0;34m:\u001b[0m\u001b[0;34m\u001b[0m\u001b[0;34m\u001b[0m\u001b[0m\n\u001b[1;32m      8\u001b[0m     \u001b[0;32mif\u001b[0m \u001b[0mvalue\u001b[0m \u001b[0;34m>=\u001b[0m \u001b[0;36m60\u001b[0m\u001b[0;34m:\u001b[0m\u001b[0;34m\u001b[0m\u001b[0;34m\u001b[0m\u001b[0m\n\u001b[1;32m      9\u001b[0m         \u001b[0mbgData\u001b[0m\u001b[0;34m.\u001b[0m\u001b[0mmajorGrp\u001b[0m\u001b[0;34m.\u001b[0m\u001b[0mvalue\u001b[0m \u001b[0;34m=\u001b[0m \u001b[0;34m'Black'\u001b[0m\u001b[0;34m\u001b[0m\u001b[0;34m\u001b[0m\u001b[0m\n",
            "\u001b[0;32m~/anaconda3/envs/harvey/lib/python3.10/site-packages/pandas/core/generic.py\u001b[0m in \u001b[0;36m?\u001b[0;34m(self, name)\u001b[0m\n\u001b[1;32m   6200\u001b[0m             \u001b[0;32mand\u001b[0m \u001b[0mname\u001b[0m \u001b[0;32mnot\u001b[0m \u001b[0;32min\u001b[0m \u001b[0mself\u001b[0m\u001b[0;34m.\u001b[0m\u001b[0m_accessors\u001b[0m\u001b[0;34m\u001b[0m\u001b[0;34m\u001b[0m\u001b[0m\n\u001b[1;32m   6201\u001b[0m             \u001b[0;32mand\u001b[0m \u001b[0mself\u001b[0m\u001b[0;34m.\u001b[0m\u001b[0m_info_axis\u001b[0m\u001b[0;34m.\u001b[0m\u001b[0m_can_hold_identifiers_and_holds_name\u001b[0m\u001b[0;34m(\u001b[0m\u001b[0mname\u001b[0m\u001b[0;34m)\u001b[0m\u001b[0;34m\u001b[0m\u001b[0;34m\u001b[0m\u001b[0m\n\u001b[1;32m   6202\u001b[0m         ):\n\u001b[1;32m   6203\u001b[0m             \u001b[0;32mreturn\u001b[0m \u001b[0mself\u001b[0m\u001b[0;34m[\u001b[0m\u001b[0mname\u001b[0m\u001b[0;34m]\u001b[0m\u001b[0;34m\u001b[0m\u001b[0;34m\u001b[0m\u001b[0m\n\u001b[0;32m-> 6204\u001b[0;31m         \u001b[0;32mreturn\u001b[0m \u001b[0mobject\u001b[0m\u001b[0;34m.\u001b[0m\u001b[0m__getattribute__\u001b[0m\u001b[0;34m(\u001b[0m\u001b[0mself\u001b[0m\u001b[0;34m,\u001b[0m \u001b[0mname\u001b[0m\u001b[0;34m)\u001b[0m\u001b[0;34m\u001b[0m\u001b[0;34m\u001b[0m\u001b[0m\n\u001b[0m",
            "\u001b[0;31mAttributeError\u001b[0m: 'GeoDataFrame' object has no attribute 'majorGrp'"
          ]
        }
      ],
      "source": [
        "## Create majority group field\n",
        "\n",
        "\n",
        "for index,value in bgData.pctAsian.items():\n",
        "    if value >= 60: \n",
        "        bgData.majorGrp.value = 'Asian'\n",
        "for index,value in bgData.pctBlack.items():\n",
        "    if value >= 60: \n",
        "        bgData.majorGrp.value = 'Black'\n",
        "for index,value in bgData.pctLatinx.items():\n",
        "    if value >= 60: \n",
        "        bgData.majorGrp.value = 'Latinx'\n",
        "for index,value in bgData.pctWhite.items():\n",
        "    if value >= 60: \n",
        "        bgData.majorGrp.value = 'White'\n",
        "\n",
        "bgData.head()\n"
      ]
    },
    {
      "cell_type": "markdown",
      "metadata": {},
      "source": [
        "### Analysis\n",
        "\n",
        "Describe the methods of analysis that will directly test the hypotheses or provide results to answer the research questions.\n",
        "This section should explicitly define any spatial / statistical *models* and their *parameters*, including *grouping* criteria, *weighting* criteria, and *significance thresholds*.\n",
        "Also explain any follow-up analyses or validations.\n",
        "\n"
      ]
    },
    {
      "cell_type": "markdown",
      "metadata": {},
      "source": [
        "## Results\n",
        "\n",
        "Describe how results are to be presented.\n",
        "\n"
      ]
    },
    {
      "cell_type": "markdown",
      "metadata": {},
      "source": [
        "## Discussion\n",
        "\n",
        "Describe how the results are to be interpreted *vis a vis* each hypothesis or research question.\n",
        "\n"
      ]
    },
    {
      "cell_type": "markdown",
      "metadata": {},
      "source": [
        "## Integrity Statement\n",
        "\n",
        "Include an integrity statement - The authors of this preregistration state that they completed this preregistration to the best of their knowledge and that no other preregistration exists pertaining to the same hypotheses and research.\n",
        "If a prior registration *does* exist, explain the rationale for revising the registration here.\n",
        "\n"
      ]
    },
    {
      "cell_type": "markdown",
      "metadata": {},
      "source": [
        "# Acknowledgements\n",
        "\n",
        "- `Funding Name`: name of funding for the project\n",
        "- `Funding Title`: title of project grant\n",
        "- `Award info URI`: web address for award information\n",
        "- `Award number`: award number\n",
        "\n",
        "This report is based upon the template for Reproducible and Replicable Research in Human-Environment and Geographical Sciences, DOI:[10.17605/OSF.IO/W29MQ](https://doi.org/10.17605/OSF.IO/W29MQ)"
      ]
    },
    {
      "cell_type": "markdown",
      "metadata": {},
      "source": [
        "## References"
      ]
    }
  ],
  "metadata": {
    "colab": {
      "provenance": []
    },
    "kernelspec": {
      "display_name": "Python 3",
      "name": "python3"
    },
    "language_info": {
      "codemirror_mode": {
        "name": "ipython",
        "version": 3
      },
      "file_extension": ".py",
      "mimetype": "text/x-python",
      "name": "python",
      "nbconvert_exporter": "python",
      "pygments_lexer": "ipython3",
      "version": "3.10.13"
    },
    "orig_nbformat": 4
  },
  "nbformat": 4,
  "nbformat_minor": 0
}
